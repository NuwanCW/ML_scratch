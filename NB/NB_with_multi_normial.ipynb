{
 "cells": [
  {
   "cell_type": "code",
   "execution_count": 1,
   "id": "a7f09959",
   "metadata": {},
   "outputs": [],
   "source": [
    "from collections import defaultdict\n",
    "import math\n",
    "import json\n",
    "import nltk\n",
    "from nltk.stem import PorterStemmer\n",
    "from nltk.tokenize import sent_tokenize, word_tokenize\n",
    "from nltk.corpus import stopwords"
   ]
  },
  {
   "cell_type": "code",
   "execution_count": 2,
   "id": "92f81908",
   "metadata": {},
   "outputs": [],
   "source": [
    "porter = PorterStemmer()\n",
    "stop_words = stopwords.words(\"english\")\n",
    "\n",
    "# https://www.kaggle.com/rmisra/news-category-dataset\n",
    "file = \"/home/user2/Machine-learning-without-any-libraries/NB/News_Category_Dataset_v2.json\"\n",
    "\n",
    "\n",
    "def clean_data(sentence):\n",
    "    \"\"\"clean text string by removing stop words, stteming,punctuations\n",
    "    args: text string\n",
    "    return: cleaned text list\"\"\"\n",
    "    words = [porter.stem(word) for word in word_tokenize(sentence) if word.lower() not in stop_words and word.isalpha()]\n",
    "    return words\n",
    "    \n",
    "def get_data(file,train_test_thresh=0.9):\n",
    "    \"\"\"Read data in a json file and get the data for each category with cleaned text in dictionary with train and\n",
    "    test set\n",
    "    key: tag, value:list of lists with cleaned words\n",
    "    input: json file, train_test_thresh\n",
    "    output: dictionary (key: tag, value:list of lists with cleaned words)\n",
    "    ex: {tag1:[[word1,word2...],[word1,word2...]]}\n",
    "    \"\"\"\n",
    "    data = [json.loads(x) for x in open(file,'r')]\n",
    "    #get only relevant data\n",
    "    keys_  = ['category','headline','short_description']\n",
    "    data = [{k:val for k,val in record.items() if k in keys_} for record in data]\n",
    "    # now get data for each category as a list of list\n",
    "    category = list(set([record['category'] for record in data]))\n",
    "    data_clensed = {tag:[] for tag in category}\n",
    "    for record in data:\n",
    "        data_clensed[record['category']].append(clean_data(record['headline']+\" \"+record['short_description']))\n",
    "        \n",
    "    train_data= {}\n",
    "    test_data = {}\n",
    "    for k,v in data_clensed.items():\n",
    "        train_data[k] = v[: int(len(v)*train_test_thresh)]\n",
    "        test_data[k] = v[int(len(v)*train_test_thresh):]\n",
    "    return train_data,test_data\n"
   ]
  },
  {
   "cell_type": "code",
   "execution_count": 3,
   "id": "c210c256",
   "metadata": {},
   "outputs": [],
   "source": [
    "train_data,test_data = get_data(file,train_test_thresh=0.9)"
   ]
  },
  {
   "cell_type": "code",
   "execution_count": 4,
   "id": "b5be9e9c",
   "metadata": {},
   "outputs": [],
   "source": [
    "class NBMultinormial:\n",
    "    def __init__(self,train_data):\n",
    "        self.laplace_smoothing_factor = 1\n",
    "        self.prior_per_tag={}\n",
    "        self.likelihood_per_word_per_tag = {}\n",
    "        self.tags = train_data.keys()\n",
    "        self.train_data = train_data\n",
    "        self.train()\n",
    "        \n",
    "    def train(self):\n",
    "        # get the priors per tag\n",
    "        tag_count_map = {tag:len(self.train_data[tag]) for tag in self.tags}\n",
    "        self.priors_per_tag = {tag:tag_count_map[tag]/sum(tag_count_map.values()) for tag in self.tags}\n",
    "        self.likelihood_per_word_per_tag = self.get_word_likelihood()\n",
    "        \n",
    "    def get_word_likelihood(self):\n",
    "        \"\"\"calculate the probability of each word to tag\n",
    "           word count of a word in a tag / total_words in that tag with laplace smoothing\n",
    "           returns a dictionary\n",
    "           ex: {word:{tag1:proba,tag2:proba,...}}\"\"\"\n",
    "        # we need word count per tag and total word for frequencies as well\n",
    "        word_frequencies_per_tag = defaultdict(lambda:{tag:0 for tag in self.tags})\n",
    "        word_likelihood_per_tag = defaultdict(lambda:{tag:0.5 for tag in self.tags})\n",
    "        total_word_count_per_tag = defaultdict(int)\n",
    "        for tag in self.tags:\n",
    "            for article in self.train_data[tag]:\n",
    "                for word in article:\n",
    "                    word_frequencies_per_tag[word][tag] +=1\n",
    "                    total_word_count_per_tag[tag] +=1\n",
    "        \n",
    "        for word,tag_map in word_frequencies_per_tag.items():\n",
    "            for tag in tag_map.keys():\n",
    "                word_likelihood_per_tag[word][tag] =(word_frequencies_per_tag[word][tag]+1*self.laplace_smoothing_factor)/(total_word_count_per_tag[tag]+2*self.laplace_smoothing_factor)\n",
    "        return word_likelihood_per_tag\n",
    "                                                                                                                           \n",
    "    def predict(self,article):\n",
    "        \"\"\"process the each word in sentence and get the posterior probability for each tag for that sentence\n",
    "           get the sum of log value  to get rid of getting lower values\n",
    "           posterior = prior*likelihood ( we ignore the normaliation constant)\n",
    "        \"\"\"\n",
    "        posteriors_per_tag = {tag:math.log(prior) for tag,prior in self.priors_per_tag.items()}\n",
    "        for word in article:\n",
    "            for tag in self.tags:\n",
    "                posteriors_per_tag[tag] +=math.log(self.likelihood_per_word_per_tag[word][tag])\n",
    "        return posteriors_per_tag\n",
    "                                                                                                                                                                                                                                                                                                                                                                       \n",
    "                                                                                                           "
   ]
  },
  {
   "cell_type": "code",
   "execution_count": 5,
   "id": "b951d982",
   "metadata": {},
   "outputs": [],
   "source": [
    "model = NBMultinormial(train_data)"
   ]
  },
  {
   "cell_type": "code",
   "execution_count": 7,
   "id": "7269eafe",
   "metadata": {},
   "outputs": [
    {
     "name": "stdout",
     "output_type": "stream",
     "text": [
      "41\n"
     ]
    }
   ],
   "source": [
    "corr =0\n",
    "tot =0\n",
    "for key,articles in test_data.items():\n",
    "    for article in articles:\n",
    "        predictions = model.predict(article)\n",
    "        pred_val=max(predictions,key=predictions.get)\n",
    "        if pred_val==key:\n",
    "            corr +=1\n",
    "        tot +=1\n",
    "print(round(corr*100/tot))\n",
    "            "
   ]
  }
 ],
 "metadata": {
  "kernelspec": {
   "display_name": "Python 3 (ipykernel)",
   "language": "python",
   "name": "python3"
  },
  "language_info": {
   "codemirror_mode": {
    "name": "ipython",
    "version": 3
   },
   "file_extension": ".py",
   "mimetype": "text/x-python",
   "name": "python",
   "nbconvert_exporter": "python",
   "pygments_lexer": "ipython3",
   "version": "3.8.10"
  }
 },
 "nbformat": 4,
 "nbformat_minor": 5
}
