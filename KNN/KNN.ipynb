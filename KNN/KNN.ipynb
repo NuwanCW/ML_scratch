{
 "cells": [
  {
   "cell_type": "code",
   "execution_count": 5,
   "id": "b2ce7b68",
   "metadata": {},
   "outputs": [],
   "source": [
    "import pandas as pd\n",
    "from sklearn.datasets import load_iris"
   ]
  },
  {
   "cell_type": "code",
   "execution_count": 6,
   "id": "9be60167",
   "metadata": {},
   "outputs": [],
   "source": [
    "# get the data \n",
    "xcol=['x0','x1','x2','x3']\n",
    "ycol='y'\n",
    "iris=load_iris()\n"
   ]
  },
  {
   "cell_type": "code",
   "execution_count": 7,
   "id": "34fbcb24",
   "metadata": {},
   "outputs": [],
   "source": [
    "# data is in a dictionary format x is four dimensional and y values is found in targer\n",
    "#prepare the dataset in a dictionary format for us to work\n",
    "data = {}\n",
    "for i in range(len(iris['target'])):\n",
    "    k = 'data_record_'+str(i)\n",
    "    data[k] = {'features':list(iris.data[i]),'target':iris['target'][i]}"
   ]
  },
  {
   "cell_type": "code",
   "execution_count": 26,
   "id": "3e782e41",
   "metadata": {},
   "outputs": [
    {
     "name": "stdout",
     "output_type": "stream",
     "text": [
      "20 test records\n",
      "130 train records\n"
     ]
    }
   ],
   "source": [
    "#Shuffle the data\n",
    "import random\n",
    "data = list(data.items())\n",
    "random.shuffle(data)\n",
    "data = dict(data)\n",
    " # data is in \n",
    "#     {'data_record_146': {'features': [6.3, 2.5, 5.0, 1.9], 'target': 2}, \n",
    "#      'data_record_28': {'features': [5.2, 3.4, 1.4, 0.2], 'target': 0}, \n",
    "#      'data_record_52' .......\n",
    "test_data = dict(random.sample(data.items(),20))\n",
    "train_data = {k:v for k,v in data.items() if k not in test_data}\n",
    "print(f'{len(test_data)} test records\\n{len(train_data)} train records')"
   ]
  },
  {
   "cell_type": "code",
   "execution_count": 34,
   "id": "e8223b5a",
   "metadata": {},
   "outputs": [
    {
     "name": "stdout",
     "output_type": "stream",
     "text": [
      "95.0% accuracy\n"
     ]
    }
   ],
   "source": [
    "#we use the uclidean distance\n",
    "def find_k_nearest_neighbours(train_data,test_data_point,k):\n",
    "    \"\"\"get uccilidean distance of k nearest data points for the given data_point\n",
    "    returns a list of data_records keys as a list\"\"\"\n",
    "    distance_map ={}\n",
    "    for data_record,feature_label_map in train_data.items():\n",
    "        distance = get_euclidean_distance(test_data_point,feature_label_map['features'])\n",
    "        distance_map[data_record]=distance\n",
    "    # now sort the dictionary based on the value and return k data_records,is data_record\n",
    "    return sorted(distance_map,key=distance_map.get)[:k]\n",
    "        \n",
    "        \n",
    "def get_euclidean_distance(test_data_point,train_data_point):\n",
    "    \"\"\"measure euclean distance of the points\n",
    "    args: features with the given dimensions\n",
    "    ex: test_data_point->list\n",
    "        train_data_point->list\n",
    "    \"\"\"\n",
    "    squared_diff= sum([(i-j)**2 for i,j in zip(train_data_point,test_data_point)])**.05\n",
    "    return squared_diff\n",
    "        \n",
    "def predict_label(train_data,test_data,k,label_key='target'):\n",
    "    correct = 0\n",
    "    total = 0\n",
    "    prediction_data={}\n",
    "    for _,test_feature_lable_map in test_data.items():\n",
    "        knn = find_k_nearest_neighbours(train_data,test_feature_lable_map['features'],k)\n",
    "        labels = [train_data[data_record][label_key] for data_record in knn]\n",
    "        label = max(labels,key=labels.count)\n",
    "#         print(label,test_feature_lable_map['target'])\n",
    "        if label == test_feature_lable_map['target']:\n",
    "            correct +=1\n",
    "        total +=1\n",
    "    print(f'{round(correct*100/total,2)}% accuracy')\n",
    "        \n",
    "predict_label(train_data,test_data,7,label_key='target')"
   ]
  }
 ],
 "metadata": {
  "kernelspec": {
   "display_name": "Python 3 (ipykernel)",
   "language": "python",
   "name": "python3"
  },
  "language_info": {
   "codemirror_mode": {
    "name": "ipython",
    "version": 3
   },
   "file_extension": ".py",
   "mimetype": "text/x-python",
   "name": "python",
   "nbconvert_exporter": "python",
   "pygments_lexer": "ipython3",
   "version": "3.8.10"
  }
 },
 "nbformat": 4,
 "nbformat_minor": 5
}
