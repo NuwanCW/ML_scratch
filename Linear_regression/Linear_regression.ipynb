{
 "cells": [
  {
   "cell_type": "code",
   "execution_count": 8,
   "id": "cc3065c7",
   "metadata": {},
   "outputs": [],
   "source": [
    "import numpy as np\n",
    "import random\n",
    "import matplotlib.pyplot as plt"
   ]
  },
  {
   "cell_type": "code",
   "execution_count": 9,
   "id": "0d45b274",
   "metadata": {},
   "outputs": [],
   "source": [
    "SEED =42\n",
    "SAMPLE_SIZE = 100"
   ]
  },
  {
   "cell_type": "code",
   "execution_count": 10,
   "id": "89306d5a",
   "metadata": {},
   "outputs": [],
   "source": [
    "np.random.seed(SEED)"
   ]
  },
  {
   "cell_type": "code",
   "execution_count": 11,
   "id": "dd2d81d0",
   "metadata": {},
   "outputs": [],
   "source": [
    "# Data generation \n",
    "def data_generate(sample_size):\n",
    "    \"\"\"Genenrate data for linear regression\"\"\"\n",
    "    X = np.array(range(sample_size))\n",
    "    random_noise = np.random.uniform(-40,40,size=sample_size)\n",
    "    y = 6.8*X + random_noise\n",
    "    return X,y"
   ]
  },
  {
   "cell_type": "code",
   "execution_count": 12,
   "id": "2f17c650",
   "metadata": {},
   "outputs": [
    {
     "data": {
      "text/plain": [
       "(100, 2)"
      ]
     },
     "execution_count": 12,
     "metadata": {},
     "output_type": "execute_result"
    }
   ],
   "source": [
    "X,y = data_generate(SAMPLE_SIZE)\n",
    "data = np.vstack([X,y]).T\n",
    "data.shape"
   ]
  },
  {
   "cell_type": "code",
   "execution_count": 13,
   "id": "b77a63af",
   "metadata": {},
   "outputs": [
    {
     "data": {
      "text/plain": [
       "array([[  0.        , -10.03679049],\n",
       "       [  1.        ,  42.85714451],\n",
       "       [  2.        ,  32.15951534],\n",
       "       [  3.        ,  28.29267874],\n",
       "       [  4.        ,  -0.31850876]])"
      ]
     },
     "execution_count": 13,
     "metadata": {},
     "output_type": "execute_result"
    }
   ],
   "source": [
    "data[:5]"
   ]
  },
  {
   "cell_type": "code",
   "execution_count": 14,
   "id": "bb621c81",
   "metadata": {},
   "outputs": [
    {
     "data": {
      "image/png": "[encoded data removed]",
      "text/plain": [
       "<Figure size 432x288 with 1 Axes>"
      ]
     },
     "metadata": {
      "needs_background": "light"
     },
     "output_type": "display_data"
    }
   ],
   "source": [
    "#lets see data\n",
    "plt.scatter(data[:,0],data[:,1])\n",
    "plt.show()"
   ]
  },
  {
   "cell_type": "code",
   "execution_count": 15,
   "id": "e6f9638d",
   "metadata": {},
   "outputs": [],
   "source": [
    "# we need to split data into train, test and validate\n",
    "TRAIN_SIZE = 0.7\n",
    "VAL_SIZE = 0.15\n",
    "TEST_SIZE = 0.15"
   ]
  },
  {
   "cell_type": "code",
   "execution_count": 16,
   "id": "2caf9e33",
   "metadata": {},
   "outputs": [
    {
     "data": {
      "text/plain": [
       "array([[ 33.        , 260.31084298],\n",
       "       [  6.        ,   5.44668897],\n",
       "       [ 90.        , 581.56753968],\n",
       "       [ 85.        , 564.01466576],\n",
       "       [ 13.        ,  65.38712885]])"
      ]
     },
     "execution_count": 16,
     "metadata": {},
     "output_type": "execute_result"
    }
   ],
   "source": [
    "# shuffle the data\n",
    "np.random.shuffle(data)\n",
    "data[:5]"
   ]
  },
  {
   "cell_type": "code",
   "execution_count": 17,
   "id": "27e99fd3",
   "metadata": {},
   "outputs": [
    {
     "name": "stdout",
     "output_type": "stream",
     "text": [
      "(70, 2) (15, 2) (15, 2)\n"
     ]
    }
   ],
   "source": [
    "train_data = data[:int(len(data)*TRAIN_SIZE)]\n",
    "val_data = data[int(len(data)*TRAIN_SIZE):int(len(data)*(TRAIN_SIZE+VAL_SIZE))]\n",
    "test_data = data[int(len(data)*(TRAIN_SIZE+VAL_SIZE)):]\n",
    "print(train_data.shape,val_data.shape,test_data.shape)"
   ]
  },
  {
   "cell_type": "code",
   "execution_count": 18,
   "id": "80c12f3e",
   "metadata": {},
   "outputs": [],
   "source": [
    "X_train = train_data[:,0].reshape(-1,1)\n",
    "y_train = train_data[:,1].reshape(-1,1)\n",
    "X_val = val_data[:,0].reshape(-1,1)\n",
    "y_val = val_data[:1].reshape(-1,1)\n",
    "X_test = test_data[:,0].reshape(-1,1)\n",
    "y_test = test_data[:,1].reshape(-1,1)"
   ]
  },
  {
   "cell_type": "code",
   "execution_count": 19,
   "id": "8d88927f",
   "metadata": {},
   "outputs": [],
   "source": [
    "# standardize data\n",
    "# z=(xi-x_mean)/sd\n",
    "def standardize_data(data,mean,std):\n",
    "    return(data-mean)/std"
   ]
  },
  {
   "cell_type": "code",
   "execution_count": 20,
   "id": "8ba5dd2f",
   "metadata": {},
   "outputs": [],
   "source": [
    "# get mean and stds\n",
    "X_mean = np.mean(X_train)\n",
    "X_std = np.std(X_train)\n",
    "# y_mean = np.mean(y_train)\n",
    "# y_std = np.std(y_train)"
   ]
  },
  {
   "cell_type": "code",
   "execution_count": 21,
   "id": "1fc5ef1c",
   "metadata": {},
   "outputs": [],
   "source": [
    "X_train = standardize_data(X_train,X_mean,X_std)\n",
    "X_test = standardize_data(X_test,X_mean,X_std)\n",
    "X_val = standardize_data(X_val,X_mean,X_std)"
   ]
  },
  {
   "cell_type": "code",
   "execution_count": 22,
   "id": "fbd5428e",
   "metadata": {},
   "outputs": [
    {
     "name": "stdout",
     "output_type": "stream",
     "text": [
      "X_train_mean: -0.09436795375604566 X_test_mean: -0.09436795375604566 X_val_mean: -0.10121329755182101\n"
     ]
    }
   ],
   "source": [
    "print(f\"X_train_mean: {np.mean(X_test)} X_test_mean: {np.mean(X_test)} X_val_mean: {np.mean(X_val)}\")"
   ]
  },
  {
   "cell_type": "code",
   "execution_count": 23,
   "id": "41e0d1df",
   "metadata": {},
   "outputs": [],
   "source": [
    "# We know y=XW+b\n",
    "input_dim = X_train.shape[1]\n",
    "output_dim = y_train.shape[1]"
   ]
  },
  {
   "cell_type": "code",
   "execution_count": 24,
   "id": "c1cfd87e",
   "metadata": {},
   "outputs": [
    {
     "name": "stdout",
     "output_type": "stream",
     "text": [
      "W: (1, 1)\n",
      "b: (1, 1)\n"
     ]
    }
   ],
   "source": [
    "# initialize random weights\n",
    "W = 0.001*np.random.randn(input_dim,output_dim)\n",
    "b = np.zeros((1,1))\n",
    "print(f\"W: {W.shape}\\nb: {b.shape}\")\n"
   ]
  },
  {
   "cell_type": "code",
   "execution_count": 25,
   "id": "190b0bf2",
   "metadata": {},
   "outputs": [
    {
     "name": "stdout",
     "output_type": "stream",
     "text": [
      "y_pred: (70, 1)\n"
     ]
    }
   ],
   "source": [
    "y_pred = X_train.dot(W)+b\n",
    "print(f'y_pred: {y_pred.shape}')"
   ]
  },
  {
   "cell_type": "code",
   "execution_count": 26,
   "id": "5a77fd3f",
   "metadata": {},
   "outputs": [
    {
     "name": "stdout",
     "output_type": "stream",
     "text": [
      " Epoch: 0, loss: 156534.784\n",
      " Epoch: 10, loss: 104689.949\n",
      " Epoch: 20, loss: 70077.924\n",
      " Epoch: 30, loss: 46970.661\n",
      " Epoch: 40, loss: 31544.067\n",
      " Epoch: 50, loss: 21245.150\n",
      " Epoch: 60, loss: 14369.512\n",
      " Epoch: 70, loss: 9779.280\n",
      " Epoch: 80, loss: 6714.805\n",
      " Epoch: 90, loss: 4668.937\n"
     ]
    }
   ],
   "source": [
    "num_epochs = 100\n",
    "lr =0.01\n",
    "N = len(y_train)\n",
    "for i in range(num_epochs):\n",
    "    \n",
    "    #forward pass\n",
    "    y_pred = X_train.dot(W)+b\n",
    "    \n",
    "    # loss\n",
    "    loss = np.sum((y_train-y_pred)**2)/N\n",
    "    \n",
    "    if i%10==0:\n",
    "        print(f' Epoch: {i}, loss: {loss:.3f}')\n",
    "    \n",
    "    # backprop get dW and db\n",
    "    dW = -(2/N)*np.sum((y_train-y_pred)*X_train)\n",
    "    db = -(2/N)*np.sum((y_train-y_pred))\n",
    "    \n",
    "    # update weights\n",
    "    W += -lr*dW\n",
    "    b += -lr*db"
   ]
  },
  {
   "cell_type": "code",
   "execution_count": 27,
   "id": "dae28770",
   "metadata": {},
   "outputs": [],
   "source": [
    "# predictions\n",
    "pred_train = W*X_train + b\n",
    "pred_test = W*X_test + b"
   ]
  },
  {
   "cell_type": "code",
   "execution_count": 28,
   "id": "544d8057",
   "metadata": {},
   "outputs": [
    {
     "name": "stdout",
     "output_type": "stream",
     "text": [
      "train_MSE: 3303.099390558002 \n",
      "test_MSE: 2907.0815817918747\n"
     ]
    }
   ],
   "source": [
    "# Train and Test MSE\n",
    "train_mse = np.mean((y_train-pred_train)**2) \n",
    "test_mse = np.mean((y_test - pred_test)**2)\n",
    "print(f'train_MSE: {train_mse} \\ntest_MSE: {test_mse}')"
   ]
  },
  {
   "cell_type": "code",
   "execution_count": 29,
   "id": "da6c4020",
   "metadata": {},
   "outputs": [
    {
     "data": {
      "image/png": "[encoded data removed]",
      "text/plain": [
       "<Figure size 1440x360 with 2 Axes>"
      ]
     },
     "metadata": {
      "needs_background": "light"
     },
     "output_type": "display_data"
    }
   ],
   "source": [
    "plt.figure(figsize = (20,5))\n",
    "\n",
    "# plot train data\n",
    "plt.subplot(1,2,1)\n",
    "plt.title('Train')\n",
    "plt.scatter(X_train,y_train,label = \"y_train\")\n",
    "plt.plot(X_train,pred_train,color = 'red',linewidth=1,linestyle ='-',label = 'model')\n",
    "plt.legend(loc='lower right')\n",
    "\n",
    "# plot test data\n",
    "plt.subplot(1,2,2)\n",
    "plt.title(\"Test\")\n",
    "plt.scatter(X_test,y_test,label = 'y_test')\n",
    "plt.plot(X_test,pred_test,color = 'red',linewidth=1,linestyle='-',label = 'model')\n",
    "plt.legend(loc='lower right')\n",
    "plt.show()"
   ]
  },
  {
   "cell_type": "code",
   "execution_count": 30,
   "id": "0f42ba75",
   "metadata": {},
   "outputs": [],
   "source": [
    "# If we train further with more epochs it will converged to a better loss value\n"
   ]
  },
  {
   "cell_type": "code",
   "execution_count": 31,
   "id": "070ed79d",
   "metadata": {},
   "outputs": [],
   "source": [
    "# Get the closedform solution\n",
    "# get the objective function as sum(y-yhat)**2 , yhat = ax+b and get the deravitive to 0 for a and b for closed form solution\n",
    "#  we can use dot product here also but use for loop for demonstrain purposes\n",
    "denominator = sum([i*i for i in X_train])-sum(X_train)**2/len(X_train)\n",
    "a = ((sum([i*j for i,j in zip(X_train,y_train)])-sum(y_train)*sum(X_train)/len(y_train)))/denominator\n",
    "b_ = ((sum(y_train)/len(y_train))*sum([x*x for x in X_train])-sum(X_train)/len(X_train)*sum([x*y for x,y in zip(X_train,y_train)]))/denominator\n",
    "yhat_train_ = [a*x+b_ for x in X_train]\n",
    "yhat_test_ = [a*x+b_ for x in X_test]\n"
   ]
  },
  {
   "cell_type": "code",
   "execution_count": 32,
   "id": "1138d908",
   "metadata": {},
   "outputs": [
    {
     "name": "stdout",
     "output_type": "stream",
     "text": [
      "train_mse_: 559.8200615024416\n",
      "train_mse_: 587.217281524412\n"
     ]
    }
   ],
   "source": [
    "train_mse_ = np.mean((y_train-yhat_train_)**2)\n",
    "test_mse_ = np.mean((y_test-yhat_test_)**2)\n",
    "print(f'train_mse_: {train_mse_}')\n",
    "print(f'train_mse_: {test_mse_}')"
   ]
  },
  {
   "cell_type": "code",
   "execution_count": 33,
   "id": "8b89ff07",
   "metadata": {},
   "outputs": [
    {
     "data": {
      "image/png": "[encoded data removed]",
      "text/plain": [
       "<Figure size 1440x360 with 2 Axes>"
      ]
     },
     "metadata": {
      "needs_background": "light"
     },
     "output_type": "display_data"
    }
   ],
   "source": [
    "plt.figure(figsize = (20,5))\n",
    "\n",
    "# plot train data\n",
    "plt.subplot(1,2,1)\n",
    "plt.title('Train closed form solution')\n",
    "plt.scatter(X_train,y_train,label = \"y_train\")\n",
    "plt.plot(X_train,yhat_train_,color = 'red',linewidth=1,linestyle ='-',label = 'model')\n",
    "plt.legend(loc='lower right')\n",
    "\n",
    "# plot test data\n",
    "plt.subplot(1,2,2)\n",
    "plt.title(\"Test closed form solution\")\n",
    "plt.scatter(X_test,yhat_test_,label = 'y_test')\n",
    "plt.plot(X_test,pred_test,color = 'red',linewidth=1,linestyle='-',label = 'model')\n",
    "plt.legend(loc='lower right')\n",
    "plt.show()"
   ]
  },
  {
   "cell_type": "code",
   "execution_count": null,
   "id": "43907279",
   "metadata": {},
   "outputs": [],
   "source": []
  }
 ],
 "metadata": {
  "kernelspec": {
   "display_name": "Python 3 (ipykernel)",
   "language": "python",
   "name": "python3"
  },
  "language_info": {
   "codemirror_mode": {
    "name": "ipython",
    "version": 3
   },
   "file_extension": ".py",
   "mimetype": "text/x-python",
   "name": "python",
   "nbconvert_exporter": "python",
   "pygments_lexer": "ipython3",
   "version": "3.8.10"
  }
 },
 "nbformat": 4,
 "nbformat_minor": 5
}
