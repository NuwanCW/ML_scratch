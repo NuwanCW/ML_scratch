{
 "cells": [
  {
   "cell_type": "code",
   "execution_count": 10,
   "id": "1cf9f68b",
   "metadata": {},
   "outputs": [
    {
     "name": "stdout",
     "output_type": "stream",
     "text": [
      "1398 1398\n"
     ]
    }
   ],
   "source": [
    "X=Y=[]\n",
    "for line in open('../train.csv'):\n",
    "    try:\n",
    "        x,y = line.split(',')\n",
    "        if x is not None and y is not None:\n",
    "            X.append(float(x))\n",
    "            Y.append(float(y))\n",
    "    except:\n",
    "        continue\n",
    "print(len(X),len(Y))"
   ]
  },
  {
   "cell_type": "code",
   "execution_count": 11,
   "id": "ed6cfdfc",
   "metadata": {},
   "outputs": [
    {
     "data": {
      "text/plain": [
       "[]"
      ]
     },
     "execution_count": 11,
     "metadata": {},
     "output_type": "execute_result"
    },
    {
     "data": {
      "image/png": "[encoded data removed]",
      "text/plain": [
       "<Figure size 432x288 with 1 Axes>"
      ]
     },
     "metadata": {
      "needs_background": "light"
     },
     "output_type": "display_data"
    }
   ],
   "source": [
    "import matplotlib.pyplot as plt\n",
    "plt.scatter(X,Y)\n",
    "plt.plot()"
   ]
  },
  {
   "cell_type": "code",
   "execution_count": 12,
   "id": "a6101912",
   "metadata": {},
   "outputs": [],
   "source": [
    "# get the objective function as sum(y-yhat)**2 , yhat = ax+b and get the deravitive to 0 for a and b for closed form solution\n",
    "\n",
    "denominator = sum([i*i for i in X])-sum(X)**2/len(X)\n",
    "a = ((sum([i*j for i,j in zip(X,Y)])-sum(Y)*sum(X)/len(Y)))/denominator\n",
    "b = ((sum(Y)/len(Y))*sum([x*x for x in X])-sum(X)/len(X)*sum([x*y for x,y in zip(X,Y)]))/denominator"
   ]
  },
  {
   "cell_type": "code",
   "execution_count": 24,
   "id": "5c678b56",
   "metadata": {},
   "outputs": [
    {
     "data": {
      "image/png": "[encoded data removed]",
      "text/plain": [
       "<Figure size 432x288 with 1 Axes>"
      ]
     },
     "metadata": {
      "needs_background": "light"
     },
     "output_type": "display_data"
    }
   ],
   "source": [
    "yhat = [a*x+b for x in X]\n",
    "plt.scatter(X,Y)\n",
    "plt.plot(X,yhat)\n",
    "plt.show()"
   ]
  },
  {
   "cell_type": "code",
   "execution_count": null,
   "id": "557aff01",
   "metadata": {},
   "outputs": [],
   "source": []
  },
  {
   "cell_type": "code",
   "execution_count": null,
   "id": "18dc8300",
   "metadata": {},
   "outputs": [],
   "source": []
  }
 ],
 "metadata": {
  "kernelspec": {
   "display_name": "Python 3 (ipykernel)",
   "language": "python",
   "name": "python3"
  },
  "language_info": {
   "codemirror_mode": {
    "name": "ipython",
    "version": 3
   },
   "file_extension": ".py",
   "mimetype": "text/x-python",
   "name": "python",
   "nbconvert_exporter": "python",
   "pygments_lexer": "ipython3",
   "version": "3.8.10"
  }
 },
 "nbformat": 4,
 "nbformat_minor": 5
}
